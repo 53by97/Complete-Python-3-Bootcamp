{
 "cells": [
  {
   "cell_type": "markdown",
   "metadata": {},
   "source": [
    "# Milestone Project 1\n",
    "## Congratulations on making it to your first milestone!\n",
    "You've already learned a ton and are ready to work on a real project.\n",
    "\n",
    "Your assignment: Create a Tic Tac Toe game. You are free to use any IDE you like.\n",
    "\n",
    "Here are the requirements:\n",
    "\n",
    "* 2 players should be able to play the game (both sitting at the same computer)\n",
    "* The board should be printed out every time a player makes a move\n",
    "* You should be able to accept input of the player position and then place a symbol on the board\n",
    "\n",
    "Feel free to use Google to help you figure anything out (but don't just Google \"Tic Tac Toe in Python\" otherwise you won't learn anything!) Keep in mind that this project can take anywhere between several hours to several days.\n",
    "\n",
    "There are 4 Jupyter Notebooks related to this assignment:\n",
    "\n",
    "* This Assignment Notebook\n",
    "* A \"Walkthrough Steps Workbook\" Notebook\n",
    "* A \"Complete Walkthrough Solution\" Notebook\n",
    "* An \"Advanced Solution\" Notebook\n",
    "\n",
    "I encourage you to just try to start the project on your own without referencing any of the notebooks. If you get stuck, check out the next lecture which is a text lecture with helpful hints and steps. If you're still stuck after that, then check out the Walkthrough Steps Workbook, which breaks up the project in steps for you to solve. Still stuck? Then check out the Complete Walkthrough Solution video for more help on approaching the project!"
   ]
  },
  {
   "cell_type": "markdown",
   "metadata": {},
   "source": [
    "There are parts of this that will be a struggle...and that is good! I have complete faith that if you have made it this far through the course you have all the tools and knowledge to tackle this project. Remember, it's totally open book, so take your time, do a little research, and remember:\n",
    "\n",
    "## HAVE FUN!"
   ]
  },
  {
   "cell_type": "code",
   "execution_count": 19,
   "metadata": {},
   "outputs": [],
   "source": [
    "board = [\n",
    "    ['   ', '|', '   ', '|', '   '],\n",
    "    ['---', ' ', '---', ' ', '---'],\n",
    "    ['   ', '|', '   ', '|', '   '],\n",
    "    ['---', ' ', '---', ' ', '---'],\n",
    "    ['   ', '|', '   ', '|', '   ']\n",
    "]\n",
    "\n",
    "positions = {\n",
    "    1 : [0, 0], 2 : [0, 2], 3 : [0, 4],\n",
    "    4 : [2, 0], 5 : [2, 2], 6 : [2, 4],\n",
    "    7 : [4, 0], 8 : [4, 2], 9 : [4, 4]\n",
    "}\n",
    "\n",
    "\n",
    "def print_board(board):\n",
    "    print('\\n')\n",
    "    for i in range(0, 5):\n",
    "        for j in range(0, 5):\n",
    "            print(board[i][j], end='')\n",
    "            \n",
    "        print('\\n')\n",
    "        \n",
    "\n",
    "def evaluate(board):\n",
    "    # horizontal checks\n",
    "    if '   ' != board[0][0] == board[0][2] == board[0][4]:\n",
    "        return True\n",
    "    elif '   ' != board[2][0] == board[2][2] == board[2][4]:\n",
    "        return True\n",
    "    elif '   ' != board[4][0] == board[4][2] == board[4][4]:\n",
    "        return True\n",
    "    # vertical checks\n",
    "    elif '   ' != board[0][0] == board[2][0] == board[4][0]:\n",
    "        return True\n",
    "    elif '   ' != board[0][2] == board[2][2] == board[4][2]:\n",
    "        return True\n",
    "    elif '   ' != board[0][4] == board[2][4] == board[4][4]:\n",
    "        return True\n",
    "    # diagonal checks\n",
    "    elif '   ' != board[0][0] == board[2][2] == board[4][4]:\n",
    "        return True\n",
    "    elif '   ' != board[0][4] == board[2][2] == board[4][0]:\n",
    "        return True\n",
    "    \n",
    "    return False\n",
    "\n",
    "\n",
    "def full_board(board):\n",
    "    for i in range(0, 5, 2):\n",
    "        for j in range(0, 5, 2):\n",
    "            if (board[i][j] == '   '):\n",
    "                return False\n",
    "            \n",
    "    return True\n",
    "\n",
    "            \n",
    "def play(board, positions):\n",
    "    print('Welcome to Tic-Tac-Toe Play Arena\\n')\n",
    "    \n",
    "    print('Rules: \\nPlayer1 should choose either \"x\" or \"o\" and Player2 will get the other one' \n",
    "          + '\\nWhen any palyer gets 3 straight \"x\" or \"o\" that player wins! ' \n",
    "          + '\\n\\nHave Fun!\\n')\n",
    "    \n",
    "    while True:\n",
    "        p1 = input('Player1 choose \"x\" or \"o\": ')\n",
    "\n",
    "        if p1 == 'x':\n",
    "            p2 = 'o'\n",
    "            break\n",
    "        elif p1 == 'o':\n",
    "            p2 = 'x'\n",
    "            break\n",
    "        else:\n",
    "            print('\\nInvalid choice! Kindly choose again..\\n')\n",
    "        \n",
    "    currentPlayer = 'Player1'\n",
    "        \n",
    "    while True:\n",
    "        if full_board(board):\n",
    "            print('\\nMatch draw! \\n\\nGame ended!')\n",
    "            return\n",
    "            \n",
    "        while True:          \n",
    "            pos = int(input(currentPlayer + ' choose an empty position from 1 to 9: '))\n",
    "            \n",
    "            if pos not in range(0, 10):\n",
    "                print('\\nPosition is out of range! Kindly choose again..\\n')\n",
    "                continue\n",
    "                      \n",
    "            posArr = positions[pos]\n",
    "                      \n",
    "            if board[posArr[0]][posArr[1]] != '   ':\n",
    "                print('\\nPosition is already taken! Kindly choose again..\\n')\n",
    "                continue\n",
    "            else:\n",
    "                break\n",
    "        \n",
    "        if currentPlayer == 'Player1':\n",
    "            board[posArr[0]][posArr[1]] = ' ' + p1 + ' '\n",
    "        else:\n",
    "            board[posArr[0]][posArr[1]] = ' ' + p2 + ' '\n",
    "            \n",
    "        print_board(board)\n",
    "            \n",
    "        if evaluate(board):\n",
    "            print(f'\\n{currentPlayer} wins! \\n\\nGame ended!')\n",
    "            return\n",
    "            \n",
    "        if currentPlayer == 'Player1':\n",
    "            currentPlayer = 'Player2'\n",
    "        else:\n",
    "            currentPlayer = 'Player1'\n",
    "    "
   ]
  },
  {
   "cell_type": "code",
   "execution_count": 23,
   "metadata": {},
   "outputs": [
    {
     "name": "stdout",
     "output_type": "stream",
     "text": [
      "Welcome to Tic-Tac-Toe Play Arena\n",
      "\n",
      "Rules: \n",
      "Player1 should choose either \"x\" or \"o\" and Player2 will get the other one\n",
      "When any palyer gets 3 straight \"x\" or \"o\" that player wins! \n",
      "\n",
      "Have Fun!\n",
      "\n",
      "Player1 choose \"x\" or \"o\": o\n",
      "Player1 choose an empty position from 1 to 9: exit\n"
     ]
    },
    {
     "ename": "ValueError",
     "evalue": "invalid literal for int() with base 10: 'exit'",
     "output_type": "error",
     "traceback": [
      "\u001b[0;31m---------------------------------------------------------------------------\u001b[0m",
      "\u001b[0;31mValueError\u001b[0m                                Traceback (most recent call last)",
      "\u001b[0;32m<ipython-input-23-4ea8d801068c>\u001b[0m in \u001b[0;36m<module>\u001b[0;34m()\u001b[0m\n\u001b[0;32m----> 1\u001b[0;31m \u001b[0mplay\u001b[0m\u001b[0;34m(\u001b[0m\u001b[0mboard\u001b[0m\u001b[0;34m,\u001b[0m \u001b[0mpositions\u001b[0m\u001b[0;34m)\u001b[0m\u001b[0;34m\u001b[0m\u001b[0;34m\u001b[0m\u001b[0m\n\u001b[0m",
      "\u001b[0;32m<ipython-input-19-a90df1ce58a0>\u001b[0m in \u001b[0;36mplay\u001b[0;34m(board, positions)\u001b[0m\n\u001b[1;32m     84\u001b[0m \u001b[0;34m\u001b[0m\u001b[0m\n\u001b[1;32m     85\u001b[0m         \u001b[0;32mwhile\u001b[0m \u001b[0;32mTrue\u001b[0m\u001b[0;34m:\u001b[0m\u001b[0;34m\u001b[0m\u001b[0;34m\u001b[0m\u001b[0m\n\u001b[0;32m---> 86\u001b[0;31m             \u001b[0mpos\u001b[0m \u001b[0;34m=\u001b[0m \u001b[0mint\u001b[0m\u001b[0;34m(\u001b[0m\u001b[0minput\u001b[0m\u001b[0;34m(\u001b[0m\u001b[0mcurrentPlayer\u001b[0m \u001b[0;34m+\u001b[0m \u001b[0;34m' choose an empty position from 1 to 9: '\u001b[0m\u001b[0;34m)\u001b[0m\u001b[0;34m)\u001b[0m\u001b[0;34m\u001b[0m\u001b[0;34m\u001b[0m\u001b[0m\n\u001b[0m\u001b[1;32m     87\u001b[0m \u001b[0;34m\u001b[0m\u001b[0m\n\u001b[1;32m     88\u001b[0m             \u001b[0;32mif\u001b[0m \u001b[0mpos\u001b[0m \u001b[0;32mnot\u001b[0m \u001b[0;32min\u001b[0m \u001b[0mrange\u001b[0m\u001b[0;34m(\u001b[0m\u001b[0;36m0\u001b[0m\u001b[0;34m,\u001b[0m \u001b[0;36m10\u001b[0m\u001b[0;34m)\u001b[0m\u001b[0;34m:\u001b[0m\u001b[0;34m\u001b[0m\u001b[0;34m\u001b[0m\u001b[0m\n",
      "\u001b[0;31mValueError\u001b[0m: invalid literal for int() with base 10: 'exit'"
     ]
    }
   ],
   "source": [
    "play(board, positions)"
   ]
  },
  {
   "cell_type": "code",
   "execution_count": 5,
   "metadata": {},
   "outputs": [
    {
     "data": {
      "text/plain": [
       "True"
      ]
     },
     "execution_count": 5,
     "metadata": {},
     "output_type": "execute_result"
    }
   ],
   "source": [
    "' ' != '-' == '-'"
   ]
  },
  {
   "cell_type": "code",
   "execution_count": null,
   "metadata": {},
   "outputs": [],
   "source": []
  },
  {
   "cell_type": "code",
   "execution_count": null,
   "metadata": {},
   "outputs": [],
   "source": []
  }
 ],
 "metadata": {
  "kernelspec": {
   "display_name": "Python 3",
   "language": "python",
   "name": "python3"
  },
  "language_info": {
   "codemirror_mode": {
    "name": "ipython",
    "version": 3
   },
   "file_extension": ".py",
   "mimetype": "text/x-python",
   "name": "python",
   "nbconvert_exporter": "python",
   "pygments_lexer": "ipython3",
   "version": "3.7.5"
  }
 },
 "nbformat": 4,
 "nbformat_minor": 1
}
